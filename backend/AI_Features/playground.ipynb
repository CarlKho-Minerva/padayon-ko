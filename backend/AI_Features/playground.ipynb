{
 "cells": [
  {
   "cell_type": "code",
   "execution_count": 4,
   "metadata": {},
   "outputs": [],
   "source": [
    "import pathlib\n",
    "import textwrap\n",
    "\n",
    "import google.generativeai as genai\n",
    "\n",
    "from IPython.display import display\n",
    "from IPython.display import Markdown\n",
    "\n",
    "\n",
    "def to_markdown(text):\n",
    "    text = text.replace(\"•\", \"  *\")\n",
    "    return Markdown(textwrap.indent(text, \"> \", predicate=lambda _: True))\n",
    "\n",
    "\n",
    "# Or use `os.getenv('GOOGLE_API_KEY')` to fetch an environment variable.\n",
    "GOOGLE_API_KEY = \"\"\n",
    "\n",
    "genai.configure(api_key=GOOGLE_API_KEY)"
   ]
  },
  {
   "cell_type": "code",
   "execution_count": 6,
   "metadata": {},
   "outputs": [
    {
     "name": "stdout",
     "output_type": "stream",
     "text": [
      "models/gemini-1.0-pro\n",
      "models/gemini-1.0-pro-001\n",
      "models/gemini-1.0-pro-latest\n",
      "models/gemini-1.0-pro-vision-latest\n",
      "models/gemini-1.5-flash\n",
      "models/gemini-1.5-flash-001\n",
      "models/gemini-1.5-flash-latest\n",
      "models/gemini-1.5-pro\n",
      "models/gemini-1.5-pro-001\n",
      "models/gemini-1.5-pro-latest\n",
      "models/gemini-pro\n",
      "models/gemini-pro-vision\n"
     ]
    }
   ],
   "source": [
    "for m in genai.list_models():\n",
    "    if \"generateContent\" in m.supported_generation_methods:\n",
    "        print(m.name)\n",
    "\n",
    "model = genai.GenerativeModel(\"gemini-1.5-flash-latest\")"
   ]
  },
  {
   "cell_type": "code",
   "execution_count": 19,
   "metadata": {},
   "outputs": [
    {
     "name": "stdout",
     "output_type": "stream",
     "text": [
      "CPU times: user 2.53 ms, sys: 2.17 ms, total: 4.7 ms\n",
      "Wall time: 425 ms\n"
     ]
    }
   ],
   "source": [
    "%%time\n",
    "response = model.generate_content(\"What is the meaning of life?\", stream=True)"
   ]
  },
  {
   "cell_type": "code",
   "execution_count": 20,
   "metadata": {},
   "outputs": [
    {
     "data": {
      "text/plain": []
     },
     "execution_count": 20,
     "metadata": {},
     "output_type": "execute_result"
    }
   ],
   "source": [
    "response.prompt_feedback"
   ]
  },
  {
   "cell_type": "code",
   "execution_count": 13,
   "metadata": {},
   "outputs": [
    {
     "data": {
      "text/plain": [
       "response:\n",
       "GenerateContentResponse(\n",
       "    done=True,\n",
       "    iterator=None,\n",
       "    result=protos.GenerateContentResponse({\n",
       "      \"candidates\": [\n",
       "        {\n",
       "          \"content\": {\n",
       "            \"parts\": [\n",
       "              {\n",
       "                \"text\": \"The meaning of life is a question that has puzzled philosophers and theologians for centuries, and there is no single, universally accepted answer. \\n\\nHere are some different perspectives:\\n\\n**Philosophical Perspectives:**\\n\\n* **Existentialism:**  Focuses on the individual's freedom and responsibility to create their own meaning in a meaningless universe. \\n* **Nihilism:**  Suggests that life is inherently meaningless and there are no objective values or purpose.\\n* **Absurdism:**  Recognizes the inherent conflict between the human desire for meaning and the indifferent universe, but encourages us to embrace the absurdity and create meaning through our actions.\\n* **Hedonism:**  Values pleasure and happiness as the primary goals of life.\\n* **Utilitarianism:**  Focuses on maximizing happiness for the greatest number of people.\\n\\n**Religious Perspectives:**\\n\\n* **Theism:**  Many religions believe life has a purpose given by a divine creator. This purpose may involve serving God, achieving spiritual enlightenment, or following specific moral codes.\\n* **Buddhism:**  Life's meaning is found in achieving enlightenment and escaping the cycle of suffering (samsara).\\n* **Other religions:**  Each religion has its own unique perspective on the meaning of life, often based on their sacred texts and teachings.\\n\\n**Personal Perspectives:**\\n\\nUltimately, the meaning of life is often a personal question. Many find meaning in:\\n\\n* **Love and relationships:**  Building strong connections with others.\\n* **Creativity and self-expression:**  Pursuing passions and contributing to the world.\\n* **Making a difference:**  Helping others and contributing to society.\\n* **Experiencing joy and wonder:**  Embracing the beauty and complexity of life.\\n\\n**Conclusion:**\\n\\nThere is no single answer to the question of the meaning of life. It is a question each individual must answer for themselves. By exploring different perspectives and reflecting on their own experiences, we can find a sense of purpose and fulfillment in our lives. \\n\"\n",
       "              }\n",
       "            ],\n",
       "            \"role\": \"model\"\n",
       "          },\n",
       "          \"finish_reason\": \"STOP\",\n",
       "          \"index\": 0,\n",
       "          \"safety_ratings\": [\n",
       "            {\n",
       "              \"category\": \"HARM_CATEGORY_SEXUALLY_EXPLICIT\",\n",
       "              \"probability\": \"NEGLIGIBLE\"\n",
       "            },\n",
       "            {\n",
       "              \"category\": \"HARM_CATEGORY_HATE_SPEECH\",\n",
       "              \"probability\": \"NEGLIGIBLE\"\n",
       "            },\n",
       "            {\n",
       "              \"category\": \"HARM_CATEGORY_HARASSMENT\",\n",
       "              \"probability\": \"NEGLIGIBLE\"\n",
       "            },\n",
       "            {\n",
       "              \"category\": \"HARM_CATEGORY_DANGEROUS_CONTENT\",\n",
       "              \"probability\": \"NEGLIGIBLE\"\n",
       "            }\n",
       "          ]\n",
       "        }\n",
       "      ],\n",
       "      \"usage_metadata\": {\n",
       "        \"prompt_token_count\": 8,\n",
       "        \"candidates_token_count\": 412,\n",
       "        \"total_token_count\": 420\n",
       "      }\n",
       "    }),\n",
       ")"
      ]
     },
     "execution_count": 13,
     "metadata": {},
     "output_type": "execute_result"
    }
   ],
   "source": [
    "response"
   ]
  },
  {
   "cell_type": "code",
   "execution_count": 22,
   "metadata": {},
   "outputs": [
    {
     "name": "stdout",
     "output_type": "stream",
     "text": [
      "The\n"
     ]
    },
    {
     "ename": "AttributeError",
     "evalue": "'NoneType' object has no attribute 'replace'",
     "output_type": "error",
     "traceback": [
      "\u001b[0;31m---------------------------------------------------------------------------\u001b[0m",
      "\u001b[0;31mAttributeError\u001b[0m                            Traceback (most recent call last)",
      "Cell \u001b[0;32mIn[22], line 2\u001b[0m\n\u001b[1;32m      1\u001b[0m \u001b[38;5;28;01mfor\u001b[39;00m chunk \u001b[38;5;129;01min\u001b[39;00m response:\n\u001b[0;32m----> 2\u001b[0m     \u001b[43mto_markdown\u001b[49m\u001b[43m(\u001b[49m\u001b[38;5;28;43mprint\u001b[39;49m\u001b[43m(\u001b[49m\u001b[43mchunk\u001b[49m\u001b[38;5;241;43m.\u001b[39;49m\u001b[43mtext\u001b[49m\u001b[43m)\u001b[49m\u001b[43m)\u001b[49m\n\u001b[1;32m      3\u001b[0m     \u001b[38;5;28mprint\u001b[39m(\u001b[38;5;124m\"\u001b[39m\u001b[38;5;124m_\u001b[39m\u001b[38;5;124m\"\u001b[39m \u001b[38;5;241m*\u001b[39m \u001b[38;5;241m80\u001b[39m)\n",
      "Cell \u001b[0;32mIn[4], line 11\u001b[0m, in \u001b[0;36mto_markdown\u001b[0;34m(text)\u001b[0m\n\u001b[1;32m     10\u001b[0m \u001b[38;5;28;01mdef\u001b[39;00m \u001b[38;5;21mto_markdown\u001b[39m(text):\n\u001b[0;32m---> 11\u001b[0m     text \u001b[38;5;241m=\u001b[39m \u001b[43mtext\u001b[49m\u001b[38;5;241;43m.\u001b[39;49m\u001b[43mreplace\u001b[49m(\u001b[38;5;124m\"\u001b[39m\u001b[38;5;124m•\u001b[39m\u001b[38;5;124m\"\u001b[39m, \u001b[38;5;124m\"\u001b[39m\u001b[38;5;124m  *\u001b[39m\u001b[38;5;124m\"\u001b[39m)\n\u001b[1;32m     12\u001b[0m     \u001b[38;5;28;01mreturn\u001b[39;00m Markdown(textwrap\u001b[38;5;241m.\u001b[39mindent(text, \u001b[38;5;124m\"\u001b[39m\u001b[38;5;124m> \u001b[39m\u001b[38;5;124m\"\u001b[39m, predicate\u001b[38;5;241m=\u001b[39m\u001b[38;5;28;01mlambda\u001b[39;00m _: \u001b[38;5;28;01mTrue\u001b[39;00m))\n",
      "\u001b[0;31mAttributeError\u001b[0m: 'NoneType' object has no attribute 'replace'"
     ]
    }
   ],
   "source": [
    "for chunk in response:\n",
    "    print(chunk.text)\n",
    "    print(\"_\" * 80)"
   ]
  },
  {
   "cell_type": "code",
   "execution_count": 15,
   "metadata": {},
   "outputs": [
    {
     "data": {
      "text/plain": [
       "[index: 0\n",
       "content {\n",
       "  parts {\n",
       "    text: \"The meaning of life is a question that has puzzled philosophers and theologians for centuries, and there is no single, universally accepted answer. \\n\\nHere are some different perspectives:\\n\\n**Philosophical Perspectives:**\\n\\n* **Existentialism:**  Focuses on the individual\\'s freedom and responsibility to create their own meaning in a meaningless universe. \\n* **Nihilism:**  Suggests that life is inherently meaningless and there are no objective values or purpose.\\n* **Absurdism:**  Recognizes the inherent conflict between the human desire for meaning and the indifferent universe, but encourages us to embrace the absurdity and create meaning through our actions.\\n* **Hedonism:**  Values pleasure and happiness as the primary goals of life.\\n* **Utilitarianism:**  Focuses on maximizing happiness for the greatest number of people.\\n\\n**Religious Perspectives:**\\n\\n* **Theism:**  Many religions believe life has a purpose given by a divine creator. This purpose may involve serving God, achieving spiritual enlightenment, or following specific moral codes.\\n* **Buddhism:**  Life\\'s meaning is found in achieving enlightenment and escaping the cycle of suffering (samsara).\\n* **Other religions:**  Each religion has its own unique perspective on the meaning of life, often based on their sacred texts and teachings.\\n\\n**Personal Perspectives:**\\n\\nUltimately, the meaning of life is often a personal question. Many find meaning in:\\n\\n* **Love and relationships:**  Building strong connections with others.\\n* **Creativity and self-expression:**  Pursuing passions and contributing to the world.\\n* **Making a difference:**  Helping others and contributing to society.\\n* **Experiencing joy and wonder:**  Embracing the beauty and complexity of life.\\n\\n**Conclusion:**\\n\\nThere is no single answer to the question of the meaning of life. It is a question each individual must answer for themselves. By exploring different perspectives and reflecting on their own experiences, we can find a sense of purpose and fulfillment in our lives. \\n\"\n",
       "  }\n",
       "  role: \"model\"\n",
       "}\n",
       "finish_reason: STOP\n",
       "safety_ratings {\n",
       "  category: HARM_CATEGORY_SEXUALLY_EXPLICIT\n",
       "  probability: NEGLIGIBLE\n",
       "}\n",
       "safety_ratings {\n",
       "  category: HARM_CATEGORY_HATE_SPEECH\n",
       "  probability: NEGLIGIBLE\n",
       "}\n",
       "safety_ratings {\n",
       "  category: HARM_CATEGORY_HARASSMENT\n",
       "  probability: NEGLIGIBLE\n",
       "}\n",
       "safety_ratings {\n",
       "  category: HARM_CATEGORY_DANGEROUS_CONTENT\n",
       "  probability: NEGLIGIBLE\n",
       "}\n",
       "]"
      ]
     },
     "execution_count": 15,
     "metadata": {},
     "output_type": "execute_result"
    }
   ],
   "source": [
    "response.candidates"
   ]
  },
  {
   "cell_type": "code",
   "execution_count": 16,
   "metadata": {},
   "outputs": [
    {
     "name": "stdout",
     "output_type": "stream",
     "text": [
      "CPU times: user 4.13 ms, sys: 7.12 ms, total: 11.2 ms\n",
      "Wall time: 1.17 s\n"
     ]
    }
   ],
   "source": [
    "%%time\n",
    "response = model.generate_content(\"What is the meaning of life?\", stream=True)"
   ]
  },
  {
   "cell_type": "markdown",
   "metadata": {},
   "source": [
    "### Chat conversations"
   ]
  },
  {
   "cell_type": "code",
   "execution_count": 23,
   "metadata": {},
   "outputs": [
    {
     "data": {
      "text/plain": [
       "ChatSession(\n",
       "    model=genai.GenerativeModel(\n",
       "        model_name='models/gemini-1.5-flash',\n",
       "        generation_config={},\n",
       "        safety_settings={},\n",
       "        tools=None,\n",
       "        system_instruction=None,\n",
       "        cached_content=None\n",
       "    ),\n",
       "    history=[]\n",
       ")"
      ]
     },
     "execution_count": 23,
     "metadata": {},
     "output_type": "execute_result"
    }
   ],
   "source": [
    "model = genai.GenerativeModel(\"gemini-1.5-flash\")\n",
    "chat = model.start_chat(history=[])\n",
    "chat"
   ]
  },
  {
   "cell_type": "code",
   "execution_count": 31,
   "metadata": {},
   "outputs": [
    {
     "data": {
      "text/markdown": [
       "> A computer is like a magical box that follows your instructions, using numbers and lights to show you amazing things! \n"
      ],
      "text/plain": [
       "<IPython.core.display.Markdown object>"
      ]
     },
     "execution_count": 31,
     "metadata": {},
     "output_type": "execute_result"
    }
   ],
   "source": [
    "response = chat.send_message(\n",
    "    \"In one sentence, explain how a computer works to a young child.\"\n",
    ")\n",
    "to_markdown(response.text)"
   ]
  },
  {
   "cell_type": "code",
   "execution_count": 32,
   "metadata": {},
   "outputs": [
    {
     "data": {
      "text/plain": [
       "([parts {\n",
       "    text: \"In one sentence, explain how a computer works to a young child.\"\n",
       "  }\n",
       "  role: \"user\",\n",
       "  parts {\n",
       "    text: \"A computer is like a brain that follows instructions from you, using numbers and lights to do amazing things! \\n\"\n",
       "  }\n",
       "  role: \"model\",\n",
       "  parts {\n",
       "    text: \"Okay, how about a more detailed explanation to a high schooler?\"\n",
       "  }\n",
       "  role: \"user\",\n",
       "  parts {\n",
       "    text: \"Computers process information by converting it into binary code, a language of ones and zeros, and then executing instructions stored in programs, using electrical signals to manipulate data and produce results. \\n\"\n",
       "  }\n",
       "  role: \"model\",\n",
       "  parts {\n",
       "    text: \"Okay, how about a more detailed explanation to a high schooler?\"\n",
       "  }\n",
       "  role: \"user\",\n",
       "  parts {\n",
       "    text: \"Computers are essentially complex calculators that follow instructions from programs. They operate using binary code, a system of ones and zeros representing electrical signals.  These signals control the flow of information within the computer\\'s central processing unit (CPU), which acts as the brain. The CPU manipulates data, performs calculations, and executes instructions, all based on the program\\'s code.  Think of it like a recipe: the program is the recipe, the CPU is the chef, and the data is the ingredients. The chef follows the recipe (program) to combine the ingredients (data) and create the final dish (output). \\n\"\n",
       "  }\n",
       "  role: \"model\",\n",
       "  parts {\n",
       "    text: \"Okay, how about a more detailed explanation to a high schooler?\"\n",
       "  }\n",
       "  role: \"user\",\n",
       "  parts {\n",
       "    text: \"Imagine a computer as a giant orchestra playing a complex symphony. The conductor is the **Central Processing Unit (CPU)**, the brain of the computer.  The musicians are the **components** like the **RAM**, **hard drive**, and **graphics card**, each playing a specific role. \\n\\nThe **programs** are the sheet music, containing instructions for the orchestra to follow. These instructions are written in **binary code**, a language of 1s and 0s, which the CPU understands. \\n\\nWhen you open a program, the CPU reads the instructions from the program, like the conductor reading the sheet music.  The CPU then commands the different components to perform actions based on these instructions. For example, the CPU might tell the RAM to store temporary data, the hard drive to save a file, or the graphics card to display an image.\\n\\nThe symphony (output) you hear is the result of the CPU orchestrating all the components to execute the program\\'s instructions, transforming data into information that we can understand. \\n\"\n",
       "  }\n",
       "  role: \"model\",\n",
       "  parts {\n",
       "    text: \"In one sentence, explain how a computer works to a young child.\"\n",
       "  }\n",
       "  role: \"user\",\n",
       "  parts {\n",
       "    text: \"A computer is like a magical box that follows your instructions, using numbers and lights to show you amazing things! \\n\"\n",
       "  }\n",
       "  role: \"model\"],\n",
       " total_tokens: 502)"
      ]
     },
     "execution_count": 32,
     "metadata": {},
     "output_type": "execute_result"
    }
   ],
   "source": [
    "chat.history, model.count_tokens(chat.history)"
   ]
  },
  {
   "cell_type": "code",
   "execution_count": 28,
   "metadata": {},
   "outputs": [
    {
     "name": "stdout",
     "output_type": "stream",
     "text": [
      "Imagine\n",
      " a computer as a giant orchestra playing a complex symphony. The conductor is the **\n",
      "Central Processing Unit (CPU)**, the brain of the computer.  The musicians\n",
      " are the **components** like the **RAM**, **hard drive**, and **graphics card**, each playing a specific role. \n",
      "\n",
      "The **programs** are\n",
      " the sheet music, containing instructions for the orchestra to follow. These instructions are written in **binary code**, a language of 1s and 0s,\n",
      " which the CPU understands. \n",
      "\n",
      "When you open a program, the CPU reads the instructions from the program, like the conductor reading the sheet music.  The CPU then commands the different components to perform actions based on these instructions. For example\n",
      ", the CPU might tell the RAM to store temporary data, the hard drive to save a file, or the graphics card to display an image.\n",
      "\n",
      "The symphony (output) you hear is the result of the CPU orchestrating all the components\n",
      " to execute the program's instructions, transforming data into information that we can understand. \n",
      "\n"
     ]
    }
   ],
   "source": [
    "response = chat.send_message(\n",
    "    \"Okay, how about a more detailed explanation to a high schooler?\", stream=True\n",
    ")\n",
    "\n",
    "for chunk in response:\n",
    "    print(chunk.text)\n",
    "    # print(\"_\" * 80)"
   ]
  },
  {
   "cell_type": "code",
   "execution_count": null,
   "metadata": {},
   "outputs": [],
   "source": []
  }
 ],
 "metadata": {
  "kernelspec": {
   "display_name": "Python 3",
   "language": "python",
   "name": "python3"
  },
  "language_info": {
   "codemirror_mode": {
    "name": "ipython",
    "version": 3
   },
   "file_extension": ".py",
   "mimetype": "text/x-python",
   "name": "python",
   "nbconvert_exporter": "python",
   "pygments_lexer": "ipython3",
   "version": "3.11.9"
  }
 },
 "nbformat": 4,
 "nbformat_minor": 2
}
