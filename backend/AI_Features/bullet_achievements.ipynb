{
 "cells": [
  {
   "cell_type": "markdown",
   "metadata": {},
   "source": [
    "- **User Facing Guidelines**\n",
    "    \n",
    "    Achievement Description Guidelines\n",
    "    \n",
    "    We're going to help you create powerful descriptions of your achievements for scholarship applications or resumes. Don't worry about sounding perfect or stumbling over your words - our AI will clean everything up later. Just focus on answering these questions as thoroughly as you can:\n",
    "    \n",
    "    1. What specific goal or task did you accomplish?\n",
    "    2. Can you quantify your results? (Think numbers, percentages, or measurable outcomes)\n",
    "    3. What specific actions did you take to achieve this result?\n",
    "    4. How many people were involved or impacted by your work?\n",
    "    5. What leadership role did you play, if any?\n",
    "    6. What challenges or obstacles did you overcome?\n",
    "    7. How long did this achievement take? Provide a timeframe.\n",
    "    8. What skills did you develop or demonstrate through this experience?\n",
    "    9. How does this achievement relate to your future goals or field of study?\n",
    "    10. What makes this accomplishment unique or stand out?\n",
    "    11. If applicable, how much money was involved? (funds raised, budget managed, etc.)\n",
    "    12. How did this achievement impact your community or organization?\n",
    "    13. Did you receive any awards, recognition, or media coverage for this?\n",
    "    14. What personal growth did you experience from this achievement?\n",
    "    15. Can you think of any evidence to support your claims? (certificates, links, references, etc.)\n",
    "    \n",
    "    Remember:\n",
    "    \n",
    "    - It's okay to speak casually or even ramble - just focus on providing detailed information.\n",
    "    - Don't worry about organizing your thoughts perfectly - the AI will structure your achievement later.\n",
    "    - If you can't answer all questions, that's fine. Just provide as much detail as you can for the relevant ones.\n",
    "    - Feel free to include any additional information you think is important, even if it doesn't fit these questions exactly.\n",
    "    \n",
    "    Your detailed responses will help our AI create a polished, impactful description of your achievement. Just relax and tell us your story!\n"
   ]
  },
  {
   "cell_type": "code",
   "execution_count": 13,
   "metadata": {},
   "outputs": [],
   "source": [
    "import google.generativeai as genai\n",
    "\n",
    "genai.configure(api_key=\"\")\n",
    "\n",
    "model = genai.GenerativeModel(\"gemini-1.5-pro\")"
   ]
  },
  {
   "cell_type": "code",
   "execution_count": 14,
   "metadata": {},
   "outputs": [],
   "source": [
    "import textwrap\n",
    "\n",
    "from IPython.display import display\n",
    "from IPython.display import Markdown\n",
    "\n",
    "\n",
    "def to_markdown(text):\n",
    "    text = text.replace(\"•\", \"  *\")\n",
    "    return Markdown(textwrap.indent(text, \"> \", predicate=lambda _: True))"
   ]
  },
  {
   "cell_type": "code",
   "execution_count": 15,
   "metadata": {},
   "outputs": [
    {
     "name": "stdout",
     "output_type": "stream",
     "text": [
      "CPU times: user 2 µs, sys: 0 ns, total: 2 µs\n",
      "Wall time: 3.1 µs\n"
     ]
    }
   ],
   "source": [
    "%%time\n",
    "\n",
    "# Step 1: Extract key information\n",
    "def achievement_tracker(userInput):\n",
    "\n",
    "    extractPrompt = f\"\"\"\n",
    "    Input: {userInput}\n",
    "\n",
    "    You are an extraction regex master. You extract key information about achievements from this input religiously and not do anything else. Focus on:\n",
    "    - Specific roles and responsibilities\n",
    "    - Quantifiable results (numbers, percentages, etc.)\n",
    "    - Impact on community or organization\n",
    "    - Skills developed or demonstrated\n",
    "    - Challenges overcome\n",
    "    - Time frame and context of the achievement\n",
    "\n",
    "    Above response should be in this format:\n",
    "        - Specific roles and responsibilities\n",
    "              Answer\n",
    "        - Quantifiable results (numbers, percentages, etc.)\n",
    "              Answer\n",
    "    and so forth. Don't give any other information.\n",
    "    \"\"\"\n",
    "\n",
    "    response = model.generate_content(extractPrompt)\n",
    "\n",
    "    return to_markdown(response.text)"
   ]
  },
  {
   "cell_type": "code",
   "execution_count": 16,
   "metadata": {},
   "outputs": [
    {
     "data": {
      "text/markdown": [
       ">     - Specific roles and responsibilities\n",
       ">         - Played a lead role in developing and executing the website traffic growth strategy.\n",
       ">         - Implemented a comprehensive SEO strategy including keyword research and on-page optimization.\n",
       ">         - Launched targeted social media campaigns to drive traffic.\n",
       ">         - Created high-quality blog content relevant to the target audience.\n",
       ">         - Collaborated with influencers in the industry for promotion.\n",
       ">         - Managed a budget for social media advertising and content creation.\n",
       ">     - Quantifiable results (numbers, percentages, etc.)\n",
       ">         - Increased Website Traffic by 30%\n",
       ">     - Impact on community or organization \n",
       ">         - Increased website traffic directly translated to a significant rise in potential customers and revenue for the company.\n",
       ">     - Skills developed or demonstrated\n",
       ">         - Developed and demonstrated skills in SEO, content marketing, social media marketing, and campaign management.\n",
       ">     - Challenges overcome\n",
       ">         - Overcame challenges such as limited marketing budget and staying ahead of constantly evolving SEO algorithms.\n",
       ">     - Time frame and context of the achievement\n",
       ">         - Achieved this result within a 6-month period.\n",
       ">         - Goal/Task: Increased website traffic for [Company Name]'s e-commerce platform. \n"
      ],
      "text/plain": [
       "<IPython.core.display.Markdown object>"
      ]
     },
     "execution_count": 16,
     "metadata": {},
     "output_type": "execute_result"
    }
   ],
   "source": [
    "answer = f\"\"\"\n",
    "Increased Website Traffic by 30% in 6 Months\n",
    "\n",
    "Goal/Task: Increased website traffic for [Company Name]'s e-commerce platform.\n",
    "Quantified Results: Achieved a 30% increase in website traffic within 6 months.\n",
    "Actions Taken:\n",
    "Implemented a comprehensive SEO strategy including keyword research and on-page optimization.\n",
    "Launched targeted social media campaigns to drive traffic.\n",
    "Created high-quality blog content relevant to the target audience.\n",
    "Collaborated with influencers in the industry for promotion.\n",
    "People Impacted: This accomplishment benefited the entire company, particularly the marketing and sales teams.\n",
    "Leadership Role: Played a lead role in developing and executing the website traffic growth strategy.\n",
    "Challenges Overcome: Overcame challenges such as limited marketing budget and staying ahead of constantly evolving SEO algorithms.\n",
    "Timeframe: Achieved this result within a 6-month period.\n",
    "Developed Skills: Developed and demonstrated skills in SEO, content marketing, social media marketing, and campaign management.\n",
    "Future Goals: This experience aligns with my future goals of pursuing a career in digital marketing and driving online growth for businesses.\n",
    "Uniqueness: The campaign's success was achieved within a tight timeframe and with limited resources.\n",
    "Money Involved: While the exact budget cannot be disclosed, managed a budget for social media advertising and content creation.\n",
    "Community/Organization Impact: Increased website traffic directly translated to a significant rise in potential customers and revenue for the company.\n",
    "Recognition: Received recognition from the company CEO for exceeding website traffic goals.\n",
    "Personal Growth: Gained valuable experience in working independently, managing multiple tasks simultaneously, and adapting to a fast-paced digital marketing environment.\n",
    "Supporting Evidence: Can provide website traffic analytics reports and social media campaign performance data.\n",
    "\"\"\"\n",
    "\n",
    "achievement_tracker(answer)"
   ]
  },
  {
   "cell_type": "code",
   "execution_count": null,
   "metadata": {},
   "outputs": [],
   "source": []
  },
  {
   "cell_type": "code",
   "execution_count": null,
   "metadata": {},
   "outputs": [],
   "source": []
  }
 ],
 "metadata": {
  "kernelspec": {
   "display_name": "Python 3",
   "language": "python",
   "name": "python3"
  },
  "language_info": {
   "codemirror_mode": {
    "name": "ipython",
    "version": 3
   },
   "file_extension": ".py",
   "mimetype": "text/x-python",
   "name": "python",
   "nbconvert_exporter": "python",
   "pygments_lexer": "ipython3",
   "version": "3.11.9"
  }
 },
 "nbformat": 4,
 "nbformat_minor": 2
}
