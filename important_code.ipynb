{
 "cells": [
  {
   "cell_type": "code",
   "execution_count": null,
   "metadata": {},
   "outputs": [],
   "source": [
    "Set-ExecutionPolicy -ExecutionPolicy RemoteSigned -Scope Process\n",
    "\n",
    ".\\venv\\Scripts\\activate"
   ]
  },
  {
   "cell_type": "markdown",
   "metadata": {},
   "source": [
    "# Clearing Expired API Cache\n",
    "\n",
    "This script is used to clear any expired API cache and configure the `genai` library with the API key retrieved from environment variables.\n",
    "\n",
    "## Steps\n",
    "\n",
    "1. **Clear any existing environment variable**\n",
    "\n",
    "    ```python\n",
    "    # Clear any existing environment variable\n",
    "    os.environ.pop(\"GEMINI_API_KEY\", None)\n",
    "    ```\n",
    "\n",
    "    This line removes the `GEMINI_API_KEY` environment variable if it exists.\n",
    "\n",
    "2. **Load environment variables from `.env` file**\n",
    "\n",
    "    ```python\n",
    "    # Load environment variables from .env file\n",
    "    load_dotenv()\n",
    "    ```\n",
    "\n",
    "    This line loads environment variables from a `.env` file into the environment.\n",
    "\n",
    "3. **Retrieve the API key from environment variables**\n",
    "\n",
    "    ```python\n",
    "    # Retrieve the API key from environment variables\n",
    "    gemini_api_key = os.getenv(\"GEMINI_API_KEY\")\n",
    "    ```\n",
    "\n",
    "    This line retrieves the `GEMINI_API_KEY` from the environment variables.\n",
    "\n",
    "4. **Configure the `genai` library with the API key**\n",
    "\n",
    "    ```python\n",
    "    genai.configure(api_key=gemini_api_key)\n",
    "    ```\n",
    "\n",
    "    This line configures the `genai` library using the retrieved API key."
   ]
  },
  {
   "cell_type": "code",
   "execution_count": null,
   "metadata": {},
   "outputs": [],
   "source": [
    "# For clearing expired API cache\n",
    "\n",
    "# Clear any existing environment variable\n",
    "os.environ.pop(\"GEMINI_API_KEY\", None)\n",
    "\n",
    "# Load environment variables from .env file\n",
    "load_dotenv()\n",
    "\n",
    "# Retrieve the API key from environment variables\n",
    "gemini_api_key = os.getenv(\"GEMINI_API_KEY\")\n",
    "\n",
    "genai.configure(api_key=gemini_api_key)"
   ]
  },
  {
   "cell_type": "code",
   "execution_count": null,
   "metadata": {
    "vscode": {
     "languageId": "dockerfile"
    }
   },
   "outputs": [],
   "source": [
    "# For uploading to cloud run (part 1 of 2)\n",
    "\n",
    "# Use an official Python runtime as the base image\n",
    "FROM python:3.9-slim\n",
    "\n",
    "# Set the working directory in the container\n",
    "WORKDIR /app\n",
    "\n",
    "# Copy the current directory contents into the container at /app\n",
    "COPY . /app\n",
    "\n",
    "# Create and activate a virtual environment, then install dependencies\n",
    "RUN python -m venv venv && \\\n",
    "    . venv/bin/activate && \\\n",
    "    pip install --no-cache-dir -r requirements.txt\n",
    "\n",
    "# Make port 8080 available to the world outside this container\n",
    "EXPOSE 8080\n",
    "\n",
    "# Set environment variables\n",
    "ENV FLASK_APP=main.py\n",
    "ENV FLASK_RUN_HOST=0.0.0.0\n",
    "ENV FLASK_RUN_PORT=8080\n",
    "ENV PORT 8080\n",
    "\n",
    "# Run the application\n",
    "CMD [\"sh\", \"-c\", \". venv/bin/activate && flask run\"]"
   ]
  },
  {
   "cell_type": "code",
   "execution_count": null,
   "metadata": {
    "vscode": {
     "languageId": "shellscript"
    }
   },
   "outputs": [],
   "source": [
    "For uploading to cloud run (part 2 of 2)\n",
    "\n",
    "cd to folder\n",
    "\n",
    "gcloud builds submit --tag gcr.io/padayon-ko-gemini/[NAME OF IMAGE]\n",
    "\n",
    "gcloud run deploy [NAME OF IMAGE] \\\n",
    "--image gcr.io/padayon-ko-gemini/[NAME OF IMAGE] \\\n",
    "--platform managed \\\n",
    "--allow-unauthenticated\n",
    "  --set-env-vars GEMINI_API_KEY=\n",
    "\n",
    "# ensure api key is up to date -- no \"\" required"
   ]
  },
  {
   "cell_type": "markdown",
   "metadata": {
    "vscode": {
     "languageId": "shellscript"
    }
   },
   "source": [
    "# Removing CORS disabling\n",
    "\n",
    "http://127.0.0.1:5000' has been blocked by CORS policy: Response to preflight reques\n",
    "\n",
    "when writing `const response = await fetch('/process', {`\n",
    "\n",
    "only call route. not ip address/process."
   ]
  },
  {
   "cell_type": "markdown",
   "metadata": {},
   "source": [
    "____\n",
    "ERROR: (gcloud.run.deploy) Revision 'math-socratic-practice-00001-j7l' is not ready and cannot serve traffic. The user-provided container failed to start and listen on the port defined provided by the PORT=8080 environment variable. Logs for this revision might contain more information."
   ]
  },
  {
   "cell_type": "code",
   "execution_count": null,
   "metadata": {
    "vscode": {
     "languageId": "shellscript"
    }
   },
   "outputs": [],
   "source": [
    "if __name__ == \"__main__\":\n",
    "    app.run(port=int(os.environ.get(\"PORT\", 8080)), host=\"0.0.0.0\", debug=True)"
   ]
  }
 ],
 "metadata": {
  "language_info": {
   "name": "python"
  }
 },
 "nbformat": 4,
 "nbformat_minor": 2
}
